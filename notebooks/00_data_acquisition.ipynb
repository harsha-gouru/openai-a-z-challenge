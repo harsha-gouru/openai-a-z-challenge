{
 "cells": [
  {
   "cell_type": "markdown",
   "metadata": {},
   "source": [
    "# OpenAI-to-Z Challenge: Data Acquisition\n",
    "\n",
    "This notebook covers **Checkpoint 1: Data Acquisition** for the OpenAI-to-Z Challenge. Our goal is to fetch one Sentinel-2 scene and one OpenTopography LiDAR tile that overlap in the western Amazon region of Acre, Brazil."
   ]
  },
  {
   "cell_type": "markdown",
   "metadata": {},
   "source": [
    "## 1. Setup and Imports\n",
    "\n",
    "First, we'll import the necessary Python libraries and authenticate with Google Earth Engine (GEE)."
   ]
  },
  {
   "cell_type": "code",
   "execution_count": 1,
   "metadata": {},
   "outputs": [
    {
     "name": "stderr",
     "output_type": "stream",
     "text": [
      "/Users/shg/Projects/openai-a-z-challenge/.venv/lib/python3.12/site-packages/geemap/conversion.py:23: UserWarning: pkg_resources is deprecated as an API. See https://setuptools.pypa.io/en/latest/pkg_resources.html. The pkg_resources package is slated for removal as early as 2025-11-30. Refrain from using this package or pin to Setuptools<81.\n",
      "  import pkg_resources\n"
     ]
    },
    {
     "name": "stdout",
     "output_type": "stream",
     "text": [
      "Earth Engine initialization failed. Please authenticate.\n"
     ]
    },
    {
     "ename": "EEException",
     "evalue": "Project ee-gourusriharsha1507 is not registered to use Earth Engine. Visit https://code.earthengine.google.com/register?project=ee-gourusriharsha1507 to register your project. See https://developers.google.com/earth-engine/guides/access for more details.",
     "output_type": "error",
     "traceback": [
      "\u001b[31m---------------------------------------------------------------------------\u001b[39m",
      "\u001b[31mHttpError\u001b[39m                                 Traceback (most recent call last)",
      "\u001b[36mFile \u001b[39m\u001b[32m~/Projects/openai-a-z-challenge/.venv/lib/python3.12/site-packages/ee/data.py:408\u001b[39m, in \u001b[36m_execute_cloud_call\u001b[39m\u001b[34m(call, num_retries)\u001b[39m\n\u001b[32m    407\u001b[39m \u001b[38;5;28;01mtry\u001b[39;00m:\n\u001b[32m--> \u001b[39m\u001b[32m408\u001b[39m   \u001b[38;5;28;01mreturn\u001b[39;00m \u001b[43mcall\u001b[49m\u001b[43m.\u001b[49m\u001b[43mexecute\u001b[49m\u001b[43m(\u001b[49m\u001b[43mnum_retries\u001b[49m\u001b[43m=\u001b[49m\u001b[43mnum_retries\u001b[49m\u001b[43m)\u001b[49m\n\u001b[32m    409\u001b[39m \u001b[38;5;28;01mexcept\u001b[39;00m googleapiclient.errors.HttpError \u001b[38;5;28;01mas\u001b[39;00m e:\n",
      "\u001b[36mFile \u001b[39m\u001b[32m~/Projects/openai-a-z-challenge/.venv/lib/python3.12/site-packages/googleapiclient/_helpers.py:130\u001b[39m, in \u001b[36mpositional.<locals>.positional_decorator.<locals>.positional_wrapper\u001b[39m\u001b[34m(*args, **kwargs)\u001b[39m\n\u001b[32m    129\u001b[39m         logger.warning(message)\n\u001b[32m--> \u001b[39m\u001b[32m130\u001b[39m \u001b[38;5;28;01mreturn\u001b[39;00m \u001b[43mwrapped\u001b[49m\u001b[43m(\u001b[49m\u001b[43m*\u001b[49m\u001b[43margs\u001b[49m\u001b[43m,\u001b[49m\u001b[43m \u001b[49m\u001b[43m*\u001b[49m\u001b[43m*\u001b[49m\u001b[43mkwargs\u001b[49m\u001b[43m)\u001b[49m\n",
      "\u001b[36mFile \u001b[39m\u001b[32m~/Projects/openai-a-z-challenge/.venv/lib/python3.12/site-packages/googleapiclient/http.py:938\u001b[39m, in \u001b[36mHttpRequest.execute\u001b[39m\u001b[34m(self, http, num_retries)\u001b[39m\n\u001b[32m    937\u001b[39m \u001b[38;5;28;01mif\u001b[39;00m resp.status >= \u001b[32m300\u001b[39m:\n\u001b[32m--> \u001b[39m\u001b[32m938\u001b[39m     \u001b[38;5;28;01mraise\u001b[39;00m HttpError(resp, content, uri=\u001b[38;5;28mself\u001b[39m.uri)\n\u001b[32m    939\u001b[39m \u001b[38;5;28;01mreturn\u001b[39;00m \u001b[38;5;28mself\u001b[39m.postproc(resp, content)\n",
      "\u001b[31mHttpError\u001b[39m: <HttpError 403 when requesting https://earthengine.googleapis.com/v1/projects/356371474435/algorithms?prettyPrint=false&alt=json returned \"Project ee-gourusriharsha1507 is not registered to use Earth Engine. Visit https://code.earthengine.google.com/register?project=ee-gourusriharsha1507 to register your project. See https://developers.google.com/earth-engine/guides/access for more details.\". Details: \"Project ee-gourusriharsha1507 is not registered to use Earth Engine. Visit https://code.earthengine.google.com/register?project=ee-gourusriharsha1507 to register your project. See https://developers.google.com/earth-engine/guides/access for more details.\">",
      "\nDuring handling of the above exception, another exception occurred:\n",
      "\u001b[31mEEException\u001b[39m                               Traceback (most recent call last)",
      "\u001b[36mCell\u001b[39m\u001b[36m \u001b[39m\u001b[32mIn[1]\u001b[39m\u001b[32m, line 9\u001b[39m\n\u001b[32m      8\u001b[39m \u001b[38;5;28;01mtry\u001b[39;00m:\n\u001b[32m----> \u001b[39m\u001b[32m9\u001b[39m     \u001b[43mee\u001b[49m\u001b[43m.\u001b[49m\u001b[43mInitialize\u001b[49m\u001b[43m(\u001b[49m\u001b[43m)\u001b[49m\n\u001b[32m     10\u001b[39m \u001b[38;5;28;01mexcept\u001b[39;00m \u001b[38;5;167;01mException\u001b[39;00m \u001b[38;5;28;01mas\u001b[39;00m e:\n",
      "\u001b[36mFile \u001b[39m\u001b[32m~/Projects/openai-a-z-challenge/.venv/lib/python3.12/site-packages/ee/_utils.py:38\u001b[39m, in \u001b[36maccept_opt_prefix.<locals>.opt_fixed.<locals>.wrapper\u001b[39m\u001b[34m(*args, **kwargs)\u001b[39m\n\u001b[32m     37\u001b[39m       kwargs[new_key] = old_key_val\n\u001b[32m---> \u001b[39m\u001b[32m38\u001b[39m \u001b[38;5;28;01mreturn\u001b[39;00m \u001b[43mfunc\u001b[49m\u001b[43m(\u001b[49m\u001b[43m*\u001b[49m\u001b[43margs\u001b[49m\u001b[43m,\u001b[49m\u001b[43m \u001b[49m\u001b[43m*\u001b[49m\u001b[43m*\u001b[49m\u001b[43mkwargs\u001b[49m\u001b[43m)\u001b[49m\n",
      "\u001b[36mFile \u001b[39m\u001b[32m~/Projects/openai-a-z-challenge/.venv/lib/python3.12/site-packages/ee/__init__.py:232\u001b[39m, in \u001b[36mInitialize\u001b[39m\u001b[34m(credentials, url, cloud_api_key, http_transport, project)\u001b[39m\n\u001b[32m    231\u001b[39m     \u001b[38;5;28;01mraise\u001b[39;00m EEException(NO_PROJECT_EXCEPTION) \u001b[38;5;28;01mfrom\u001b[39;00m\u001b[38;5;250m \u001b[39m\u001b[38;5;28;01mNone\u001b[39;00m\n\u001b[32m--> \u001b[39m\u001b[32m232\u001b[39m   \u001b[38;5;28;01mraise\u001b[39;00m e\n\u001b[32m    234\u001b[39m \u001b[38;5;28;01mfor\u001b[39;00m dynamic_class \u001b[38;5;129;01min\u001b[39;00m _DYNAMIC_CLASSES:\n",
      "\u001b[36mFile \u001b[39m\u001b[32m~/Projects/openai-a-z-challenge/.venv/lib/python3.12/site-packages/ee/__init__.py:214\u001b[39m, in \u001b[36mInitialize\u001b[39m\u001b[34m(credentials, url, cloud_api_key, http_transport, project)\u001b[39m\n\u001b[32m    213\u001b[39m \u001b[38;5;28;01mtry\u001b[39;00m:\n\u001b[32m--> \u001b[39m\u001b[32m214\u001b[39m   \u001b[43mApiFunction\u001b[49m\u001b[43m.\u001b[49m\u001b[43minitialize\u001b[49m\u001b[43m(\u001b[49m\u001b[43m)\u001b[49m\n\u001b[32m    215\u001b[39m \u001b[38;5;28;01mexcept\u001b[39;00m EEException \u001b[38;5;28;01mas\u001b[39;00m e:\n\u001b[32m    216\u001b[39m   \u001b[38;5;66;03m# We tried to detect missing projects before initialization, but some cases\u001b[39;00m\n\u001b[32m    217\u001b[39m   \u001b[38;5;66;03m# like Colab hide the project, so check errors from missing projects too.\u001b[39;00m\n",
      "\u001b[36mFile \u001b[39m\u001b[32m~/Projects/openai-a-z-challenge/.venv/lib/python3.12/site-packages/ee/apifunction.py:161\u001b[39m, in \u001b[36mApiFunction.initialize\u001b[39m\u001b[34m(cls)\u001b[39m\n\u001b[32m    160\u001b[39m \u001b[38;5;28;01mif\u001b[39;00m \u001b[38;5;129;01mnot\u001b[39;00m \u001b[38;5;28mcls\u001b[39m._api:\n\u001b[32m--> \u001b[39m\u001b[32m161\u001b[39m   signatures = \u001b[43mdata\u001b[49m\u001b[43m.\u001b[49m\u001b[43mgetAlgorithms\u001b[49m\u001b[43m(\u001b[49m\u001b[43m)\u001b[49m\n\u001b[32m    162\u001b[39m   api = {}\n",
      "\u001b[36mFile \u001b[39m\u001b[32m~/Projects/openai-a-z-challenge/.venv/lib/python3.12/site-packages/ee/data.py:1499\u001b[39m, in \u001b[36mgetAlgorithms\u001b[39m\u001b[34m()\u001b[39m\n\u001b[32m   1498\u001b[39m call.add_response_callback(inspect)\n\u001b[32m-> \u001b[39m\u001b[32m1499\u001b[39m \u001b[38;5;28;01mreturn\u001b[39;00m _cloud_api_utils.convert_algorithms(\u001b[43m_execute_cloud_call\u001b[49m\u001b[43m(\u001b[49m\u001b[43mcall\u001b[49m\u001b[43m)\u001b[49m)\n",
      "\u001b[36mFile \u001b[39m\u001b[32m~/Projects/openai-a-z-challenge/.venv/lib/python3.12/site-packages/ee/data.py:410\u001b[39m, in \u001b[36m_execute_cloud_call\u001b[39m\u001b[34m(call, num_retries)\u001b[39m\n\u001b[32m    409\u001b[39m \u001b[38;5;28;01mexcept\u001b[39;00m googleapiclient.errors.HttpError \u001b[38;5;28;01mas\u001b[39;00m e:\n\u001b[32m--> \u001b[39m\u001b[32m410\u001b[39m   \u001b[38;5;28;01mraise\u001b[39;00m _translate_cloud_exception(e)\n",
      "\u001b[31mEEException\u001b[39m: Project ee-gourusriharsha1507 is not registered to use Earth Engine. Visit https://code.earthengine.google.com/register?project=ee-gourusriharsha1507 to register your project. See https://developers.google.com/earth-engine/guides/access for more details.",
      "\nDuring handling of the above exception, another exception occurred:\n",
      "\u001b[31mHttpError\u001b[39m                                 Traceback (most recent call last)",
      "\u001b[36mFile \u001b[39m\u001b[32m~/Projects/openai-a-z-challenge/.venv/lib/python3.12/site-packages/ee/data.py:408\u001b[39m, in \u001b[36m_execute_cloud_call\u001b[39m\u001b[34m(call, num_retries)\u001b[39m\n\u001b[32m    407\u001b[39m \u001b[38;5;28;01mtry\u001b[39;00m:\n\u001b[32m--> \u001b[39m\u001b[32m408\u001b[39m   \u001b[38;5;28;01mreturn\u001b[39;00m \u001b[43mcall\u001b[49m\u001b[43m.\u001b[49m\u001b[43mexecute\u001b[49m\u001b[43m(\u001b[49m\u001b[43mnum_retries\u001b[49m\u001b[43m=\u001b[49m\u001b[43mnum_retries\u001b[49m\u001b[43m)\u001b[49m\n\u001b[32m    409\u001b[39m \u001b[38;5;28;01mexcept\u001b[39;00m googleapiclient.errors.HttpError \u001b[38;5;28;01mas\u001b[39;00m e:\n",
      "\u001b[36mFile \u001b[39m\u001b[32m~/Projects/openai-a-z-challenge/.venv/lib/python3.12/site-packages/googleapiclient/_helpers.py:130\u001b[39m, in \u001b[36mpositional.<locals>.positional_decorator.<locals>.positional_wrapper\u001b[39m\u001b[34m(*args, **kwargs)\u001b[39m\n\u001b[32m    129\u001b[39m         logger.warning(message)\n\u001b[32m--> \u001b[39m\u001b[32m130\u001b[39m \u001b[38;5;28;01mreturn\u001b[39;00m \u001b[43mwrapped\u001b[49m\u001b[43m(\u001b[49m\u001b[43m*\u001b[49m\u001b[43margs\u001b[49m\u001b[43m,\u001b[49m\u001b[43m \u001b[49m\u001b[43m*\u001b[49m\u001b[43m*\u001b[49m\u001b[43mkwargs\u001b[49m\u001b[43m)\u001b[49m\n",
      "\u001b[36mFile \u001b[39m\u001b[32m~/Projects/openai-a-z-challenge/.venv/lib/python3.12/site-packages/googleapiclient/http.py:938\u001b[39m, in \u001b[36mHttpRequest.execute\u001b[39m\u001b[34m(self, http, num_retries)\u001b[39m\n\u001b[32m    937\u001b[39m \u001b[38;5;28;01mif\u001b[39;00m resp.status >= \u001b[32m300\u001b[39m:\n\u001b[32m--> \u001b[39m\u001b[32m938\u001b[39m     \u001b[38;5;28;01mraise\u001b[39;00m HttpError(resp, content, uri=\u001b[38;5;28mself\u001b[39m.uri)\n\u001b[32m    939\u001b[39m \u001b[38;5;28;01mreturn\u001b[39;00m \u001b[38;5;28mself\u001b[39m.postproc(resp, content)\n",
      "\u001b[31mHttpError\u001b[39m: <HttpError 403 when requesting https://earthengine.googleapis.com/v1/projects/356371474435/algorithms?prettyPrint=false&alt=json returned \"Project ee-gourusriharsha1507 is not registered to use Earth Engine. Visit https://code.earthengine.google.com/register?project=ee-gourusriharsha1507 to register your project. See https://developers.google.com/earth-engine/guides/access for more details.\". Details: \"Project ee-gourusriharsha1507 is not registered to use Earth Engine. Visit https://code.earthengine.google.com/register?project=ee-gourusriharsha1507 to register your project. See https://developers.google.com/earth-engine/guides/access for more details.\">",
      "\nDuring handling of the above exception, another exception occurred:\n",
      "\u001b[31mEEException\u001b[39m                               Traceback (most recent call last)",
      "\u001b[36mCell\u001b[39m\u001b[36m \u001b[39m\u001b[32mIn[1]\u001b[39m\u001b[32m, line 13\u001b[39m\n\u001b[32m     11\u001b[39m     \u001b[38;5;28mprint\u001b[39m(\u001b[33m\"\u001b[39m\u001b[33mEarth Engine initialization failed. Please authenticate.\u001b[39m\u001b[33m\"\u001b[39m)\n\u001b[32m     12\u001b[39m     ee.Authenticate()\n\u001b[32m---> \u001b[39m\u001b[32m13\u001b[39m     \u001b[43mee\u001b[49m\u001b[43m.\u001b[49m\u001b[43mInitialize\u001b[49m\u001b[43m(\u001b[49m\u001b[43m)\u001b[49m\n\u001b[32m     15\u001b[39m \u001b[38;5;66;03m# Create directories for raw data\u001b[39;00m\n\u001b[32m     16\u001b[39m os.makedirs(\u001b[33m'\u001b[39m\u001b[33mdata/raw/sentinel2\u001b[39m\u001b[33m'\u001b[39m, exist_ok=\u001b[38;5;28;01mTrue\u001b[39;00m)\n",
      "\u001b[36mFile \u001b[39m\u001b[32m~/Projects/openai-a-z-challenge/.venv/lib/python3.12/site-packages/ee/_utils.py:38\u001b[39m, in \u001b[36maccept_opt_prefix.<locals>.opt_fixed.<locals>.wrapper\u001b[39m\u001b[34m(*args, **kwargs)\u001b[39m\n\u001b[32m     36\u001b[39m     \u001b[38;5;28;01mif\u001b[39;00m new_key \u001b[38;5;129;01mnot\u001b[39;00m \u001b[38;5;129;01min\u001b[39;00m kwargs:\n\u001b[32m     37\u001b[39m       kwargs[new_key] = old_key_val\n\u001b[32m---> \u001b[39m\u001b[32m38\u001b[39m \u001b[38;5;28;01mreturn\u001b[39;00m \u001b[43mfunc\u001b[49m\u001b[43m(\u001b[49m\u001b[43m*\u001b[49m\u001b[43margs\u001b[49m\u001b[43m,\u001b[49m\u001b[43m \u001b[49m\u001b[43m*\u001b[49m\u001b[43m*\u001b[49m\u001b[43mkwargs\u001b[49m\u001b[43m)\u001b[49m\n",
      "\u001b[36mFile \u001b[39m\u001b[32m~/Projects/openai-a-z-challenge/.venv/lib/python3.12/site-packages/ee/__init__.py:232\u001b[39m, in \u001b[36mInitialize\u001b[39m\u001b[34m(credentials, url, cloud_api_key, http_transport, project)\u001b[39m\n\u001b[32m    226\u001b[39m   \u001b[38;5;28;01mif\u001b[39;00m (\n\u001b[32m    227\u001b[39m       (adc_err \u001b[38;5;129;01min\u001b[39;00m \u001b[38;5;28mstr\u001b[39m(e))\n\u001b[32m    228\u001b[39m       \u001b[38;5;129;01mor\u001b[39;00m (matches \u001b[38;5;129;01mand\u001b[39;00m oauth.is_sdk_project(matches[\u001b[32m1\u001b[39m]))\n\u001b[32m    229\u001b[39m       \u001b[38;5;129;01mor\u001b[39;00m (oauth_project_err \u001b[38;5;129;01min\u001b[39;00m \u001b[38;5;28mstr\u001b[39m(e))\n\u001b[32m    230\u001b[39m   ):\n\u001b[32m    231\u001b[39m     \u001b[38;5;28;01mraise\u001b[39;00m EEException(NO_PROJECT_EXCEPTION) \u001b[38;5;28;01mfrom\u001b[39;00m\u001b[38;5;250m \u001b[39m\u001b[38;5;28;01mNone\u001b[39;00m\n\u001b[32m--> \u001b[39m\u001b[32m232\u001b[39m   \u001b[38;5;28;01mraise\u001b[39;00m e\n\u001b[32m    234\u001b[39m \u001b[38;5;28;01mfor\u001b[39;00m dynamic_class \u001b[38;5;129;01min\u001b[39;00m _DYNAMIC_CLASSES:\n\u001b[32m    235\u001b[39m   dynamic_class.initialize()\n",
      "\u001b[36mFile \u001b[39m\u001b[32m~/Projects/openai-a-z-challenge/.venv/lib/python3.12/site-packages/ee/__init__.py:214\u001b[39m, in \u001b[36mInitialize\u001b[39m\u001b[34m(credentials, url, cloud_api_key, http_transport, project)\u001b[39m\n\u001b[32m    212\u001b[39m \u001b[38;5;66;03m# Initialize the dynamically loaded functions on the objects that want them.\u001b[39;00m\n\u001b[32m    213\u001b[39m \u001b[38;5;28;01mtry\u001b[39;00m:\n\u001b[32m--> \u001b[39m\u001b[32m214\u001b[39m   \u001b[43mApiFunction\u001b[49m\u001b[43m.\u001b[49m\u001b[43minitialize\u001b[49m\u001b[43m(\u001b[49m\u001b[43m)\u001b[49m\n\u001b[32m    215\u001b[39m \u001b[38;5;28;01mexcept\u001b[39;00m EEException \u001b[38;5;28;01mas\u001b[39;00m e:\n\u001b[32m    216\u001b[39m   \u001b[38;5;66;03m# We tried to detect missing projects before initialization, but some cases\u001b[39;00m\n\u001b[32m    217\u001b[39m   \u001b[38;5;66;03m# like Colab hide the project, so check errors from missing projects too.\u001b[39;00m\n\u001b[32m    218\u001b[39m   adc_err = \u001b[33m'\u001b[39m\u001b[33mauthenticating by using local Application Default Credentials\u001b[39m\u001b[33m'\u001b[39m\n",
      "\u001b[36mFile \u001b[39m\u001b[32m~/Projects/openai-a-z-challenge/.venv/lib/python3.12/site-packages/ee/apifunction.py:161\u001b[39m, in \u001b[36mApiFunction.initialize\u001b[39m\u001b[34m(cls)\u001b[39m\n\u001b[32m    159\u001b[39m \u001b[38;5;250m\u001b[39m\u001b[33;03m\"\"\"Initializes the list of signatures from the Earth Engine front-end.\"\"\"\u001b[39;00m\n\u001b[32m    160\u001b[39m \u001b[38;5;28;01mif\u001b[39;00m \u001b[38;5;129;01mnot\u001b[39;00m \u001b[38;5;28mcls\u001b[39m._api:\n\u001b[32m--> \u001b[39m\u001b[32m161\u001b[39m   signatures = \u001b[43mdata\u001b[49m\u001b[43m.\u001b[49m\u001b[43mgetAlgorithms\u001b[49m\u001b[43m(\u001b[49m\u001b[43m)\u001b[49m\n\u001b[32m    162\u001b[39m   api = {}\n\u001b[32m    163\u001b[39m   \u001b[38;5;28;01mfor\u001b[39;00m name, sig \u001b[38;5;129;01min\u001b[39;00m signatures.items():\n\u001b[32m    164\u001b[39m     \u001b[38;5;66;03m# Strip type parameters.\u001b[39;00m\n",
      "\u001b[36mFile \u001b[39m\u001b[32m~/Projects/openai-a-z-challenge/.venv/lib/python3.12/site-packages/ee/data.py:1499\u001b[39m, in \u001b[36mgetAlgorithms\u001b[39m\u001b[34m()\u001b[39m\n\u001b[32m   1494\u001b[39m     \u001b[38;5;28mprint\u001b[39m(\n\u001b[32m   1495\u001b[39m         \u001b[33m'\u001b[39m\u001b[33m*** Earth Engine ***\u001b[39m\u001b[33m'\u001b[39m,\n\u001b[32m   1496\u001b[39m         response[_INIT_MESSAGE_HEADER],\n\u001b[32m   1497\u001b[39m         file=sys.stderr)\n\u001b[32m   1498\u001b[39m call.add_response_callback(inspect)\n\u001b[32m-> \u001b[39m\u001b[32m1499\u001b[39m \u001b[38;5;28;01mreturn\u001b[39;00m _cloud_api_utils.convert_algorithms(\u001b[43m_execute_cloud_call\u001b[49m\u001b[43m(\u001b[49m\u001b[43mcall\u001b[49m\u001b[43m)\u001b[49m)\n",
      "\u001b[36mFile \u001b[39m\u001b[32m~/Projects/openai-a-z-challenge/.venv/lib/python3.12/site-packages/ee/data.py:410\u001b[39m, in \u001b[36m_execute_cloud_call\u001b[39m\u001b[34m(call, num_retries)\u001b[39m\n\u001b[32m    408\u001b[39m   \u001b[38;5;28;01mreturn\u001b[39;00m call.execute(num_retries=num_retries)\n\u001b[32m    409\u001b[39m \u001b[38;5;28;01mexcept\u001b[39;00m googleapiclient.errors.HttpError \u001b[38;5;28;01mas\u001b[39;00m e:\n\u001b[32m--> \u001b[39m\u001b[32m410\u001b[39m   \u001b[38;5;28;01mraise\u001b[39;00m _translate_cloud_exception(e)\n",
      "\u001b[31mEEException\u001b[39m: Project ee-gourusriharsha1507 is not registered to use Earth Engine. Visit https://code.earthengine.google.com/register?project=ee-gourusriharsha1507 to register your project. See https://developers.google.com/earth-engine/guides/access for more details."
     ]
    }
   ],
   "source": [
    "import os\n",
    "import ee\n",
    "import geemap\n",
    "import requests\n",
    "from tqdm import tqdm\n",
    "\n",
    "# Authenticate and initialize Earth Engine\n",
    "try:\n",
    "    ee.Initialize()\n",
    "except Exception as e:\n",
    "    print(\"Earth Engine initialization failed. Please authenticate.\")\n",
    "    ee.Authenticate()\n",
    "    ee.Initialize()\n",
    "\n",
    "# Create directories for raw data\n",
    "os.makedirs('data/raw/sentinel2', exist_ok=True)\n",
    "os.makedirs('data/raw/lidar', exist_ok=True)"
   ]
  },
  {
   "cell_type": "code",
   "execution_count": null,
   "metadata": {},
   "outputs": [],
   "source": []
  },
  {
   "cell_type": "markdown",
   "metadata": {},
   "source": [
    "## 2. Define Area of Interest (AOI)\n",
    "\n",
    "We'll focus on the Acre state in western Brazil, centered around coordinates **9.5°S, 70.5°W**, a region known for its geoglyphs."
   ]
  },
  {
   "cell_type": "code",
   "execution_count": null,
   "metadata": {},
   "outputs": [],
   "source": [
    "# Define the bounding box for the Acre region\n",
    "lon_min, lon_max = -72, -69\n",
    "lat_min, lat_max = -11, -8\n",
    "\n",
    "aoi = ee.Geometry.Rectangle([lon_min, lat_min, lon_max, lat_max])\n",
    "\n",
    "# Create a map to visualize the AOI\n",
    "map_aoi = geemap.Map(center=[-9.5, -70.5], zoom=7)\n",
    "map_aoi.addLayer(aoi, {'color': 'FF0000'}, 'Area of Interest')\n",
    "map_aoi"
   ]
  },
  {
   "cell_type": "markdown",
   "metadata": {},
   "source": [
    "## 3. Search for Sentinel-2 Scenes\n",
    "\n",
    "Using `geemap`, we will search for recent, low-cloud Sentinel-2 scenes within our AOI."
   ]
  },
  {
   "cell_type": "code",
   "execution_count": null,
   "metadata": {},
   "outputs": [],
   "source": [
    "sentinel_collection = (\n",
    "    ee.ImageCollection('COPERNICUS/S2_SR')\n",
    "    .filterBounds(aoi)\n",
    "    .filterDate('2023-01-01', '2023-12-31')\n",
    "    .filter(ee.Filter.lt('CLOUDY_PIXEL_PERCENTAGE', 10))\n",
    "    .sort('CLOUDY_PIXEL_PERCENTAGE')\n",
    ")\n",
    "\n",
    "# Get the list of available images\n",
    "image_list = sentinel_collection.toList(sentinel_collection.size())\n",
    "print(f\"Found {image_list.size().getInfo()} Sentinel-2 scenes.\")\n",
    "\n",
    "# Print details of the first 5 scenes\n",
    "for i in range(min(5, image_list.size().getInfo())):\n",
    "    image = ee.Image(image_list.get(i))\n",
    "    scene_id = image.id().getInfo()\n",
    "    cloud_cover = image.get('CLOUDY_PIXEL_PERCENTAGE').getInfo()\n",
    "    date = ee.Date(image.get('system:time_start')).format('YYYY-MM-dd').getInfo()\n",
    "    print(f\"{i+1}: ID={scene_id}, Date={date}, Cloud Cover={cloud_cover:.2f}%\")"
   ]
  },
  {
   "cell_type": "markdown",
   "metadata": {},
   "source": [
    "## 4. Download a Selected Sentinel-2 Scene\n",
    "\n",
    "Let's select the first (least cloudy) scene from the list and download it."
   ]
  },
  {
   "cell_type": "code",
   "execution_count": null,
   "metadata": {},
   "outputs": [],
   "source": [
    "if image_list.size().getInfo() > 0:\n",
    "    selected_image = ee.Image(image_list.get(0))\n",
    "    scene_id = selected_image.id().getInfo()\n",
    "    output_path = f\"data/raw/sentinel2/{scene_id}.tif\"\n",
    "\n",
    "    print(f\"Downloading scene: {scene_id}...\")\n",
    "    geemap.ee_export_image(\n",
    "        selected_image,\n",
    "        filename=output_path,\n",
    "        scale=10,  # 10m resolution for Sentinel-2\n",
    "        region=aoi,\n",
    "        file_per_band=False\n",
    "    )\n",
    "    print(f\"Download complete. File saved to: {output_path}\")\n",
    "else:\n",
    "    print(\"No scenes found matching the criteria.\")"
   ]
  },
  {
   "cell_type": "markdown",
   "metadata": {},
   "source": [
    "## 5. Search for LiDAR Data on OpenTopography\n",
    "\n",
    "OpenTopography is a key source for LiDAR data. While their API is more complex for direct searching, we can browse their catalog to find relevant datasets for the Acre region. Datasets from the USGS 3DEP program or NASA's CMS program are good candidates.\n",
    "\n",
    "**Action Required:**\n",
    "1. Go to the [OpenTopography Data Catalog](https://portal.opentopography.org/datasets).\n",
    "2. Pan and zoom to the Acre, Brazil region (around -9.5, -70.5).\n",
    "3. Look for datasets that cover this area. A good example is the [LiDAR Surveys over Selected Forest Research Sites, Brazilian Amazon, 2008-2018](https://daac.ornl.gov/cgi-bin/dsviewer.pl?ds_id=1644) hosted by ORNL DAAC and accessible via OpenTopography.\n",
    "4. Once you find a suitable `.laz` file, copy its download URL and paste it below."
   ]
  },
  {
   "cell_type": "code",
   "execution_count": null,
   "metadata": {},
   "outputs": [],
   "source": [
    "# Placeholder for the LiDAR data URL\n",
    "# Example from a known dataset in the region.\n",
    "# You will need to replace this with the URL you find.\n",
    "lidar_url = \"https://opentopography.s3.sdsc.edu/pc-bulk/CMS_LiDAR_Brazil_2018/CMS_LiDAR_Brazil_2018_laz/FLB_7006_20140728_131235.laz\" # Example URL\n",
    "lidar_filename = \"data/raw/lidar/\" + lidar_url.split('/')[-1]\n",
    "\n",
    "print(f\"Preparing to download LiDAR data from: {lidar_url}\")"
   ]
  },
  {
   "cell_type": "markdown",
   "metadata": {},
   "source": [
    "## 6. Download Selected LiDAR Data\n",
    "\n",
    "This cell will download the LiDAR file from the URL specified above."
   ]
  },
  {
   "cell_type": "code",
   "execution_count": null,
   "metadata": {},
   "outputs": [],
   "source": [
    "def download_file(url, filename):\n",
    "    \"\"\"Downloads a file from a URL with a progress bar.\"\"\"\n",
    "    try:\n",
    "        response = requests.get(url, stream=True)\n",
    "        response.raise_for_status() # Raise an exception for bad status codes\n",
    "        total_size = int(response.headers.get('content-length', 0))\n",
    "\n",
    "        with open(filename, 'wb') as f, tqdm(\n",
    "            desc=filename.split('/')[-1],\n",
    "            total=total_size,\n",
    "            unit='iB',\n",
    "            unit_scale=True,\n",
    "            unit_divisor=1024,\n",
    "        ) as bar:\n",
    "            for chunk in response.iter_content(chunk_size=8192):\n",
    "                size = f.write(chunk)\n",
    "                bar.update(size)\n",
    "        print(f\"Successfully downloaded {filename}\")\n",
    "    except requests.exceptions.RequestException as e:\n",
    "        print(f\"Error downloading file: {e}\")\n",
    "\n",
    "if lidar_url and 'https://' in lidar_url:\n",
    "    download_file(lidar_url, lidar_filename)\n",
    "else:\n",
    "    print(\"Please provide a valid LiDAR data URL in the cell above.\")"
   ]
  }
 ],
 "metadata": {
  "kernelspec": {
   "display_name": ".venv",
   "language": "python",
   "name": "python3"
  },
  "language_info": {
   "codemirror_mode": {
    "name": "ipython",
    "version": 3
   },
   "file_extension": ".py",
   "mimetype": "text/x-python",
   "name": "python",
   "nbconvert_exporter": "python",
   "pygments_lexer": "ipython3",
   "version": "3.12.3"
  }
 },
 "nbformat": 4,
 "nbformat_minor": 4
}
