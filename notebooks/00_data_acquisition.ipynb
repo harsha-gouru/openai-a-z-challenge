{
 "cells": [
  {
   "cell_type": "markdown",
   "metadata": {},
   "source": [
    "# OpenAI-to-Z Challenge: Data Acquisition\n",
    "\n",
    "This notebook covers **Checkpoint 1: Data Acquisition** for the OpenAI-to-Z Challenge. Our goal is to fetch one Sentinel-2 scene and one OpenTopography LiDAR tile that overlap in the western Amazon region of Acre, Brazil."
   ]
  },
  {
   "cell_type": "markdown",
   "metadata": {},
   "source": [
    "## 1. Setup and Imports\n",
    "\n",
    "First, we'll import the necessary Python libraries and authenticate with Google Earth Engine (GEE)."
   ]
  },
  {
   "cell_type": "code",
   "execution_count": null,
   "metadata": {},
   "outputs": [],
   "source": [
    "import os\n",
    "import ee\n",
    "import geemap\n",
    "import requests\n",
    "from tqdm import tqdm\n",
    "\n",
    "# Authenticate and initialize Earth Engine\n",
    "try:\n",
    "    ee.Initialize()\n",
    "except Exception as e:\n",
    "    print(\"Earth Engine initialization failed. Please authenticate.\")\n",
    "    ee.Authenticate()\n",
    "    ee.Initialize()\n",
    "\n",
    "# Create directories for raw data\n",
    "os.makedirs('data/raw/sentinel2', exist_ok=True)\n",
    "os.makedirs('data/raw/lidar', exist_ok=True)"
   ]
  },
  {
   "cell_type": "markdown",
   "metadata": {},
   "source": [
    "## 2. Define Area of Interest (AOI)\n",
    "\n",
    "We'll focus on the Acre state in western Brazil, centered around coordinates **9.5°S, 70.5°W**, a region known for its geoglyphs."
   ]
  },
  {
   "cell_type": "code",
   "execution_count": null,
   "metadata": {},
   "outputs": [],
   "source": [
    "# Define the bounding box for the Acre region\n",
    "lon_min, lon_max = -72, -69\n",
    "lat_min, lat_max = -11, -8\n",
    "\n",
    "aoi = ee.Geometry.Rectangle([lon_min, lat_min, lon_max, lat_max])\n",
    "\n",
    "# Create a map to visualize the AOI\n",
    "map_aoi = geemap.Map(center=[-9.5, -70.5], zoom=7)\n",
    "map_aoi.addLayer(aoi, {'color': 'FF0000'}, 'Area of Interest')\n",
    "map_aoi"
   ]
  },
  {
   "cell_type": "markdown",
   "metadata": {},
   "source": [
    "## 3. Search for Sentinel-2 Scenes\n",
    "\n",
    "Using `geemap`, we will search for recent, low-cloud Sentinel-2 scenes within our AOI."
   ]
  },
  {
   "cell_type": "code",
   "execution_count": null,
   "metadata": {},
   "outputs": [],
   "source": [
    "sentinel_collection = (\n",
    "    ee.ImageCollection('COPERNICUS/S2_SR')\n",
    "    .filterBounds(aoi)\n",
    "    .filterDate('2023-01-01', '2023-12-31')\n",
    "    .filter(ee.Filter.lt('CLOUDY_PIXEL_PERCENTAGE', 10))\n",
    "    .sort('CLOUDY_PIXEL_PERCENTAGE')\n",
    ")\n",
    "\n",
    "# Get the list of available images\n",
    "image_list = sentinel_collection.toList(sentinel_collection.size())\n",
    "print(f\"Found {image_list.size().getInfo()} Sentinel-2 scenes.\")\n",
    "\n",
    "# Print details of the first 5 scenes\n",
    "for i in range(min(5, image_list.size().getInfo())):\n",
    "    image = ee.Image(image_list.get(i))\n",
    "    scene_id = image.id().getInfo()\n",
    "    cloud_cover = image.get('CLOUDY_PIXEL_PERCENTAGE').getInfo()\n",
    "    date = ee.Date(image.get('system:time_start')).format('YYYY-MM-dd').getInfo()\n",
    "    print(f\"{i+1}: ID={scene_id}, Date={date}, Cloud Cover={cloud_cover:.2f}%\")"
   ]
  },
  {
   "cell_type": "markdown",
   "metadata": {},
   "source": [
    "## 4. Download a Selected Sentinel-2 Scene\n",
    "\n",
    "Let's select the first (least cloudy) scene from the list and download it."
   ]
  },
  {
   "cell_type": "code",
   "execution_count": null,
   "metadata": {},
   "outputs": [],
   "source": [
    "if image_list.size().getInfo() > 0:\n",
    "    selected_image = ee.Image(image_list.get(0))\n",
    "    scene_id = selected_image.id().getInfo()\n",
    "    output_path = f\"data/raw/sentinel2/{scene_id}.tif\"\n",
    "    \n",
    "    print(f\"Downloading scene: {scene_id}...\")\n",
    "    geemap.ee_export_image(\n",
    "        selected_image,\n",
    "        filename=output_path,\n",
    "        scale=10,  # 10m resolution for Sentinel-2\n",
    "        region=aoi,\n",
    "        file_per_band=False\n",
    "    )\n",
    "    print(f\"Download complete. File saved to: {output_path}\")\n",
    "else:\n",
    "    print(\"No scenes found matching the criteria.\")"
   ]
  },
  {
   "cell_type": "markdown",
   "metadata": {},
   "source": [
    "## 5. Search for LiDAR Data on OpenTopography\n",
    "\n",
    "OpenTopography is a key source for LiDAR data. While their API is more complex for direct searching, we can browse their catalog to find relevant datasets for the Acre region. Datasets from the USGS 3DEP program or NASA's CMS program are good candidates.\n",
    "\n",
    "**Action Required:**\n",
    "1. Go to the [OpenTopography Data Catalog](https://portal.opentopography.org/datasets).\n",
    "2. Pan and zoom to the Acre, Brazil region (around -9.5, -70.5).\n",
    "3. Look for datasets that cover this area. A good example is the [LiDAR Surveys over Selected Forest Research Sites, Brazilian Amazon, 2008-2018](https://daac.ornl.gov/cgi-bin/dsviewer.pl?ds_id=1644) hosted by ORNL DAAC and accessible via OpenTopography.\n",
    "4. Once you find a suitable `.laz` file, copy its download URL and paste it below."
   ]
  },
  {
   "cell_type": "code",
   "execution_count": null,
   "metadata": {},
   "outputs": [],
   "source": [
    "# Placeholder for the LiDAR data URL\n",
    "# Example from a known dataset in the region.\n",
    "# You will need to replace this with the URL you find.\n",
    "lidar_url = \"https://opentopography.s3.sdsc.edu/pc-bulk/CMS_LiDAR_Brazil_2018/CMS_LiDAR_Brazil_2018_laz/FLB_7006_20140728_131235.laz\" # Example URL\n",
    "lidar_filename = \"data/raw/lidar/\" + lidar_url.split('/')[-1]\n",
    "\n",
    "print(f\"Preparing to download LiDAR data from: {lidar_url}\")"
   ]
  },
  {
   "cell_type": "markdown",
   "metadata": {},
   "source": [
    "## 6. Download Selected LiDAR Data\n",
    "\n",
    "This cell will download the LiDAR file from the URL specified above."
   ]
  },
  {
   "cell_type": "code",
   "execution_count": null,
   "metadata": {},
   "outputs": [],
   "source": [
    "def download_file(url, filename):\n",
    "    \"\"\"Downloads a file from a URL with a progress bar.\"\"\"\n",
    "    try:\n",
    "        response = requests.get(url, stream=True)\n",
    "        response.raise_for_status() # Raise an exception for bad status codes\n",
    "        total_size = int(response.headers.get('content-length', 0))\n",
    "        \n",
    "        with open(filename, 'wb') as f, tqdm(\n",
    "            desc=filename.split('/')[-1],\n",
    "            total=total_size,\n",
    "            unit='iB',\n",
    "            unit_scale=True,\n",
    "            unit_divisor=1024,\n",
    "        ) as bar:\n",
    "            for chunk in response.iter_content(chunk_size=8192):\n",
    "                size = f.write(chunk)\n",
    "                bar.update(size)\n",
    "        print(f\"Successfully downloaded {filename}\")\n",
    "    except requests.exceptions.RequestException as e:\n",
    "        print(f\"Error downloading file: {e}\")\n",
    "\n",
    "if lidar_url and 'https://' in lidar_url:\n",
    "    download_file(lidar_url, lidar_filename)\n",
    "else:\n",
    "    print(\"Please provide a valid LiDAR data URL in the cell above.\")"
   ]
  }
 ],
 "metadata": {
  "kernelspec": {
   "display_name": "Python 3",
   "language": "python",
   "name": "python3"
  },
  "language_info": {
   "codemirror_mode": {
    "name": "ipython",
    "version": 3
   },
   "file_extension": ".py",
   "mimetype": "text/x-python",
   "name": "python",
   "nbconvert_exporter": "python",
   "pygments_lexer": "ipython3",
   "version": "3.10.9"
  }
 },
 "nbformat": 4,
 "nbformat_minor": 4
}
